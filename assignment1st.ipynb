{
 "cells": [
  {
   "cell_type": "markdown",
   "id": "babe0df4-6f63-4d68-90a3-4cf7b092ee49",
   "metadata": {},
   "source": [
    "# Q.1 create one variable containing following type of data:\n",
    "#1.string, 2.list, 3.float, 4.tuple"
   ]
  },
  {
   "cell_type": "code",
   "execution_count": 2,
   "id": "9307beab-0829-41ee-85c4-6e2f8861f1a4",
   "metadata": {},
   "outputs": [],
   "source": [
    "i = \"sudh\""
   ]
  },
  {
   "cell_type": "code",
   "execution_count": 3,
   "id": "2f2b66b0-659a-4255-8256-d3b916bb273d",
   "metadata": {},
   "outputs": [
    {
     "data": {
      "text/plain": [
       "'sudh'"
      ]
     },
     "execution_count": 3,
     "metadata": {},
     "output_type": "execute_result"
    }
   ],
   "source": [
    "i"
   ]
  },
  {
   "cell_type": "code",
   "execution_count": 4,
   "id": "5151d7ff-5811-4cd8-bf21-0e6c195f4faf",
   "metadata": {},
   "outputs": [],
   "source": [
    "ii = [1,2,3,4,5]"
   ]
  },
  {
   "cell_type": "code",
   "execution_count": 5,
   "id": "8c5a9733-bb26-4501-9519-d691bae6ab72",
   "metadata": {},
   "outputs": [
    {
     "data": {
      "text/plain": [
       "list"
      ]
     },
     "execution_count": 5,
     "metadata": {},
     "output_type": "execute_result"
    }
   ],
   "source": [
    "type(ii)"
   ]
  },
  {
   "cell_type": "code",
   "execution_count": 6,
   "id": "f03635b5-0416-43eb-a63e-82b5e8cb9ccd",
   "metadata": {},
   "outputs": [],
   "source": [
    "iii = 23.43"
   ]
  },
  {
   "cell_type": "code",
   "execution_count": 7,
   "id": "d3e85e83-8a07-4aed-9032-72eb0ae48a61",
   "metadata": {},
   "outputs": [
    {
     "data": {
      "text/plain": [
       "float"
      ]
     },
     "execution_count": 7,
     "metadata": {},
     "output_type": "execute_result"
    }
   ],
   "source": [
    "type(iii)"
   ]
  },
  {
   "cell_type": "code",
   "execution_count": 8,
   "id": "5b30adeb-7762-463d-bc8c-6522cd119fea",
   "metadata": {},
   "outputs": [
    {
     "data": {
      "text/plain": [
       "tuple"
      ]
     },
     "execution_count": 8,
     "metadata": {},
     "output_type": "execute_result"
    }
   ],
   "source": [
    "iv = (1,2,3)\n",
    "type(iv)"
   ]
  },
  {
   "cell_type": "markdown",
   "id": "ae5ca03a-a107-4ab5-8bb1-264c97323373",
   "metadata": {},
   "source": [
    "# Q2. Given are some following variable containning data:\n",
    "#1.var1 = '' ,2. var2 = '[DS,ML,Python]' ,3. var3 = ['DS','ML','Python'], 4.var4 = 1.\n",
    "#what will be the data type of the above given variable."
   ]
  },
  {
   "cell_type": "code",
   "execution_count": 10,
   "id": "1ee554f6-5678-4da0-9253-df77f6dfee5e",
   "metadata": {},
   "outputs": [],
   "source": [
    "#1."
   ]
  },
  {
   "cell_type": "code",
   "execution_count": 11,
   "id": "83874075-454a-41d8-8b79-585264cb50d5",
   "metadata": {},
   "outputs": [],
   "source": [
    "var1 = ''"
   ]
  },
  {
   "cell_type": "code",
   "execution_count": 12,
   "id": "00c0ee75-e921-43b3-ad27-91be7f0d5bcd",
   "metadata": {},
   "outputs": [
    {
     "data": {
      "text/plain": [
       "str"
      ]
     },
     "execution_count": 12,
     "metadata": {},
     "output_type": "execute_result"
    }
   ],
   "source": [
    "type(var1)"
   ]
  },
  {
   "cell_type": "code",
   "execution_count": 13,
   "id": "c151e1a6-74fe-42bf-a61e-fe26bda006ab",
   "metadata": {},
   "outputs": [],
   "source": [
    "#2."
   ]
  },
  {
   "cell_type": "code",
   "execution_count": 14,
   "id": "dc7faf82-0703-4dc6-b743-7d76033a9656",
   "metadata": {},
   "outputs": [],
   "source": [
    "var2 = '[DS,ML,Python]'"
   ]
  },
  {
   "cell_type": "code",
   "execution_count": 15,
   "id": "e7ea4f06-b506-4153-a86e-a27209f9315c",
   "metadata": {},
   "outputs": [
    {
     "data": {
      "text/plain": [
       "str"
      ]
     },
     "execution_count": 15,
     "metadata": {},
     "output_type": "execute_result"
    }
   ],
   "source": [
    "type(var2)"
   ]
  },
  {
   "cell_type": "code",
   "execution_count": 16,
   "id": "5f5dc877-b64b-4270-8a8d-5bf31c6a9fd8",
   "metadata": {},
   "outputs": [],
   "source": [
    "#3."
   ]
  },
  {
   "cell_type": "code",
   "execution_count": 17,
   "id": "4b30a40d-73a3-4d38-b96e-381dd2126a2a",
   "metadata": {},
   "outputs": [],
   "source": [
    "var3 = ['DS', 'ML', 'Python']"
   ]
  },
  {
   "cell_type": "code",
   "execution_count": 18,
   "id": "7fcf6398-8023-471b-9709-910245aff812",
   "metadata": {},
   "outputs": [
    {
     "data": {
      "text/plain": [
       "list"
      ]
     },
     "execution_count": 18,
     "metadata": {},
     "output_type": "execute_result"
    }
   ],
   "source": [
    "type(var3)"
   ]
  },
  {
   "cell_type": "code",
   "execution_count": 19,
   "id": "b3443e8c-ba9b-4175-bdc9-6e6a58b66f10",
   "metadata": {},
   "outputs": [],
   "source": [
    "#4."
   ]
  },
  {
   "cell_type": "code",
   "execution_count": 20,
   "id": "78e8af19-da47-49ad-9743-091a1e5b4196",
   "metadata": {},
   "outputs": [],
   "source": [
    "var4 = 1"
   ]
  },
  {
   "cell_type": "code",
   "execution_count": 21,
   "id": "9703e760-1665-44f4-b161-c5bdbbdf9328",
   "metadata": {},
   "outputs": [
    {
     "data": {
      "text/plain": [
       "int"
      ]
     },
     "execution_count": 21,
     "metadata": {},
     "output_type": "execute_result"
    }
   ],
   "source": [
    "type(var4)"
   ]
  },
  {
   "cell_type": "markdown",
   "id": "c255474a-3583-481b-af9f-66159fc7b896",
   "metadata": {},
   "source": [
    "#Q3. Explain the use of the following operators using an example:\n",
    "#1. /, 2.%, 3. // , 4. **."
   ]
  },
  {
   "cell_type": "code",
   "execution_count": 23,
   "id": "c84b1f72-b070-4927-8694-f0aaf7b8cbce",
   "metadata": {},
   "outputs": [],
   "source": [
    "#1."
   ]
  },
  {
   "cell_type": "code",
   "execution_count": 24,
   "id": "2e8fea2f-6469-404e-b916-ffb1fee988fc",
   "metadata": {},
   "outputs": [
    {
     "data": {
      "text/plain": [
       "0.6666666666666666"
      ]
     },
     "execution_count": 24,
     "metadata": {},
     "output_type": "execute_result"
    }
   ],
   "source": [
    "2/3"
   ]
  },
  {
   "cell_type": "code",
   "execution_count": 25,
   "id": "c1a308c6-0495-4359-a2a6-86a0f91a8dfc",
   "metadata": {},
   "outputs": [],
   "source": [
    "#2."
   ]
  },
  {
   "cell_type": "code",
   "execution_count": 26,
   "id": "e174a441-1ba4-4ed5-9b2f-0c6e65f5f2da",
   "metadata": {},
   "outputs": [
    {
     "data": {
      "text/plain": [
       "1"
      ]
     },
     "execution_count": 26,
     "metadata": {},
     "output_type": "execute_result"
    }
   ],
   "source": [
    "1%4"
   ]
  },
  {
   "cell_type": "code",
   "execution_count": 27,
   "id": "75aef975-4ccf-4ebf-a54f-b424b31a08d8",
   "metadata": {},
   "outputs": [
    {
     "data": {
      "text/plain": [
       "1"
      ]
     },
     "execution_count": 27,
     "metadata": {},
     "output_type": "execute_result"
    }
   ],
   "source": [
    "#3.\n",
    "3//3"
   ]
  },
  {
   "cell_type": "code",
   "execution_count": 28,
   "id": "10da4463-0128-45c1-bedc-c197600d6d14",
   "metadata": {},
   "outputs": [
    {
     "data": {
      "text/plain": [
       "8"
      ]
     },
     "execution_count": 28,
     "metadata": {},
     "output_type": "execute_result"
    }
   ],
   "source": [
    "#4.\n",
    "2**3"
   ]
  },
  {
   "cell_type": "code",
   "execution_count": 1,
   "id": "48374ed7-8ac4-41da-a514-14faa11f3241",
   "metadata": {},
   "outputs": [
    {
     "name": "stdout",
     "output_type": "stream",
     "text": [
      "1 <class 'int'>\n",
      "2 <class 'int'>\n",
      "3 <class 'int'>\n",
      "45 <class 'int'>\n",
      "44.55 <class 'float'>\n",
      "ajay <class 'str'>\n",
      "(1, 2, 3, 4) <class 'tuple'>\n",
      "True <class 'bool'>\n",
      "10 <class 'str'>\n",
      "11 <class 'int'>\n"
     ]
    }
   ],
   "source": [
    "#Q4. Creat a list of length 10 of your choice containing multiple type of data. Using for loop the element and its data type.\n",
    "l = [1,2,3,45,44.55,\"ajay\",(1,2,3,4),True,\"10\",11]\n",
    "for i in l:\n",
    "    print(i,(type(i)))"
   ]
  },
  {
   "cell_type": "markdown",
   "id": "11ad2941-8fed-4e13-9cf0-9ac0e7bf29e8",
   "metadata": {},
   "source": [
    "#Q5.using a while loop verify if the number A is purely divisible by number B and if so then how many times it can be divisible."
   ]
  },
  {
   "cell_type": "code",
   "execution_count": null,
   "id": "999ea776-f364-4e2d-8785-0ef0c9675df0",
   "metadata": {},
   "outputs": [],
   "source": [
    "A = int(input(\"enter\"))\n",
    "B = int(input(\"enter\"))\n",
    "count = 0\n",
    "\n",
    "while A % B == 0:\n",
    "    A=A / B\n",
    "    count += 1\n",
    "\n",
    "if count > 0:\n",
    "    print(\"A is divisible by B.\")\n",
    "    print(\"A can be divided by B\", count, \"times.\")\n",
    "else:\n",
    "    print(\"A is not divisible by B.\")"
   ]
  },
  {
   "cell_type": "code",
   "execution_count": 31,
   "id": "ad0ef499-4447-415a-abb2-cdf19838784c",
   "metadata": {},
   "outputs": [
    {
     "name": "stdout",
     "output_type": "stream",
     "text": [
      "3\n",
      "6\n",
      "9\n",
      "12\n",
      "15\n",
      "18\n",
      "21\n",
      "24\n"
     ]
    }
   ],
   "source": [
    "#Q6.Create a list containing 25 int type data. Using for loop and if-else condition print it the element is divisible by 3 or not.\n",
    "l = [1,2,3,4,5,6,7,8,9,10,11,12,13,14,15,16,17,18,19,20,21,22,23,24,25]\n",
    "for i in l :\n",
    "    if i % 3 ==0:\n",
    "        print(i)"
   ]
  },
  {
   "cell_type": "code",
   "execution_count": 37,
   "id": "a801c643-bb69-4a92-ac38-ce2393f8ac96",
   "metadata": {},
   "outputs": [],
   "source": [
    "#Q7. What do you understand about mutable and immutable data types? Give examples for both showing this property.\n",
    "#1.mutable data type\n",
    "a = [1,2,3,4,5,6]"
   ]
  },
  {
   "cell_type": "code",
   "execution_count": 38,
   "id": "f01b12fb-905a-48c9-b6a4-ae0faaa62a30",
   "metadata": {},
   "outputs": [],
   "source": [
    "a[0] = 100"
   ]
  },
  {
   "cell_type": "code",
   "execution_count": 39,
   "id": "efa1d716-56c1-4a0f-abb2-5a7567cea454",
   "metadata": {},
   "outputs": [
    {
     "data": {
      "text/plain": [
       "[100, 2, 3, 4, 5, 6]"
      ]
     },
     "execution_count": 39,
     "metadata": {},
     "output_type": "execute_result"
    }
   ],
   "source": [
    "a"
   ]
  },
  {
   "cell_type": "code",
   "execution_count": 40,
   "id": "ebdf797a-d513-4fd1-9bdd-c491f5f4fedb",
   "metadata": {},
   "outputs": [],
   "source": [
    "#2.immutabl data type\n",
    "b = \"pwskills\""
   ]
  },
  {
   "cell_type": "code",
   "execution_count": 41,
   "id": "af07b644-8c8a-4e47-9a5b-0be6e5b9d731",
   "metadata": {},
   "outputs": [
    {
     "data": {
      "text/plain": [
       "'w'"
      ]
     },
     "execution_count": 41,
     "metadata": {},
     "output_type": "execute_result"
    }
   ],
   "source": [
    "b[1]"
   ]
  },
  {
   "cell_type": "code",
   "execution_count": 43,
   "id": "1d6aed2f-d40b-4896-9dde-6ae692f3be71",
   "metadata": {},
   "outputs": [
    {
     "ename": "TypeError",
     "evalue": "'str' object does not support item assignment",
     "output_type": "error",
     "traceback": [
      "\u001b[0;31m---------------------------------------------------------------------------\u001b[0m",
      "\u001b[0;31mTypeError\u001b[0m                                 Traceback (most recent call last)",
      "Cell \u001b[0;32mIn[43], line 1\u001b[0m\n\u001b[0;32m----> 1\u001b[0m \u001b[43mb\u001b[49m\u001b[43m[\u001b[49m\u001b[38;5;241;43m1\u001b[39;49m\u001b[43m]\u001b[49m \u001b[38;5;241m=\u001b[39m \u001b[38;5;124m'\u001b[39m\u001b[38;5;124mW\u001b[39m\u001b[38;5;124m'\u001b[39m\n",
      "\u001b[0;31mTypeError\u001b[0m: 'str' object does not support item assignment"
     ]
    }
   ],
   "source": [
    "b[1] = 'W'"
   ]
  },
  {
   "cell_type": "code",
   "execution_count": null,
   "id": "a6fb777f-37d5-48cf-8381-3c43326ed724",
   "metadata": {},
   "outputs": [],
   "source": []
  }
 ],
 "metadata": {
  "kernelspec": {
   "display_name": "Python 3 (ipykernel)",
   "language": "python",
   "name": "python3"
  },
  "language_info": {
   "codemirror_mode": {
    "name": "ipython",
    "version": 3
   },
   "file_extension": ".py",
   "mimetype": "text/x-python",
   "name": "python",
   "nbconvert_exporter": "python",
   "pygments_lexer": "ipython3",
   "version": "3.10.8"
  }
 },
 "nbformat": 4,
 "nbformat_minor": 5
}
